{
  "nbformat": 4,
  "nbformat_minor": 0,
  "metadata": {
    "colab": {
      "name": "luismiguelmorales_ejercicio3.ipynb",
      "provenance": [],
      "collapsed_sections": []
    },
    "kernelspec": {
      "name": "python3",
      "display_name": "Python 3"
    },
    "language_info": {
      "name": "python"
    }
  },
  "cells": [
    {
      "cell_type": "markdown",
      "source": [
        "Primero, se importa el paquete de NUMPY y lo utilizaré llamándolo \"np\""
      ],
      "metadata": {
        "id": "vqhqDRTnk3uz"
      }
    },
    {
      "cell_type": "code",
      "execution_count": 123,
      "metadata": {
        "id": "jVSrAnqlkaX-"
      },
      "outputs": [],
      "source": [
        "import numpy as np"
      ]
    },
    {
      "cell_type": "markdown",
      "source": [
        "**############Ejercicio 1#################**"
      ],
      "metadata": {
        "id": "lp-fz3w3lCtq"
      }
    },
    {
      "cell_type": "markdown",
      "source": [
        "**1. Almacena el conjunto de datos como un array de numpy (sin los nombres de las\n",
        "variables) y otro array para los pesos B0 = 10, B1 =1 y alpha = 0.**"
      ],
      "metadata": {
        "id": "orUxNQNTlGR6"
      }
    },
    {
      "cell_type": "code",
      "source": [
        "#Conjunto de datos \n",
        "i_array = np.array([[2,4],[2,1],[1,7],[4,8],[5,3]])\n",
        "print(\"Array que almacena conjunto de datos --> \"+ str(i_array))\n",
        "\n",
        "#Pesos\n",
        "p_array = np.array([10,1,0])\n",
        "print(\"Array que almacena los pesos --> \"+ str(p_array))"
      ],
      "metadata": {
        "colab": {
          "base_uri": "https://localhost:8080/"
        },
        "id": "e47rDGoclo3C",
        "outputId": "1476e8fa-b70c-49ca-aac8-071d923b5749"
      },
      "execution_count": 124,
      "outputs": [
        {
          "output_type": "stream",
          "name": "stdout",
          "text": [
            "Array que almacena conjunto de datos --> [[2 4]\n",
            " [2 1]\n",
            " [1 7]\n",
            " [4 8]\n",
            " [5 3]]\n",
            "Array que almacena los pesos --> [10  1  0]\n"
          ]
        }
      ]
    },
    {
      "cell_type": "markdown",
      "source": [
        "**2. Aplica la regresión a cada instancia del conjunto de datos utilizando operaciones de numpy.**"
      ],
      "metadata": {
        "id": "4A0zw0kCmehW"
      }
    },
    {
      "cell_type": "code",
      "source": [
        "\n",
        "#Recorro el array y accedo opero con las diferentes posiciones del mismo.\n",
        "for x in i_array:\n",
        "  resultado=0;\n",
        "  resultado=x[0]*p_array[0]+x[1]*p_array[1]+p_array[2];\n",
        "\n",
        "  #Muestro cada resultado parcial\n",
        "  print(resultado);\n"
      ],
      "metadata": {
        "colab": {
          "base_uri": "https://localhost:8080/"
        },
        "id": "GZykyOkTmhmp",
        "outputId": "b20777f8-374f-42d6-b436-5add852c60ac"
      },
      "execution_count": 125,
      "outputs": [
        {
          "output_type": "stream",
          "name": "stdout",
          "text": [
            "24\n",
            "21\n",
            "17\n",
            "48\n",
            "53\n"
          ]
        }
      ]
    },
    {
      "cell_type": "markdown",
      "source": [
        "**3. Muestra un diagrama de líneas que muestre el valor de y en función de x1 en el intervalo [0,5] y asumiendo que x0 siempre es igual a 0. Hazlo para las regresiones con parámetros B0 = 10, B0 =1, alpha = 0 y B0 = 30, B1 =-2, alpha = 5.**"
      ],
      "metadata": {
        "id": "gbffHgW_qAw6"
      }
    },
    {
      "cell_type": "code",
      "source": [
        "#Primero importo la librería para usar el gráfico de líneas\n",
        "import matplotlib.pyplot as plt\n"
      ],
      "metadata": {
        "id": "Kpt-2aXJqulL"
      },
      "execution_count": 126,
      "outputs": []
    },
    {
      "cell_type": "code",
      "source": [
        "#Defino lel primer array de pesos\n",
        "ejer3p_array1 = np.array([10,1,0])\n",
        "print(\"Array que almacena los pesos --> \"+ str(ejer3p_array1))\n",
        "\n",
        "#Genero un array con 5 números, uniformemente distribuidos\n",
        "x = np.linspace(0,5,5)\n",
        "print(\"Array que almacena conjunto de datos --> \"+ str(x));\n",
        "\n",
        "#Calculo los primeros valores de \"y\" y los muestro por pantalla\n",
        "y= [ejer3p_array1[1]*i+ejer3p_array1[2] for i in x]\n",
        "print(\"Array y resultante: \"+str(y));\n",
        "\n",
        "#Dibujo la regresión lineal que muestre el valor de y en función de x1\n",
        "plt.plot(x,y)"
      ],
      "metadata": {
        "colab": {
          "base_uri": "https://localhost:8080/",
          "height": 334
        },
        "id": "6EDl2ZNprsar",
        "outputId": "6bc512d7-c067-446b-a7f4-6802d4ac62ae"
      },
      "execution_count": 127,
      "outputs": [
        {
          "output_type": "stream",
          "name": "stdout",
          "text": [
            "Array que almacena los pesos --> [10  1  0]\n",
            "Array que almacena conjunto de datos --> [0.   1.25 2.5  3.75 5.  ]\n",
            "Array y resultante: [0.0, 1.25, 2.5, 3.75, 5.0]\n"
          ]
        },
        {
          "output_type": "execute_result",
          "data": {
            "text/plain": [
              "[<matplotlib.lines.Line2D at 0x7f2020954c10>]"
            ]
          },
          "metadata": {},
          "execution_count": 127
        },
        {
          "output_type": "display_data",
          "data": {
            "text/plain": [
              "<Figure size 432x288 with 1 Axes>"
            ],
            "image/png": "[encoded data removed]"
          },
          "metadata": {
            "needs_background": "light"
          }
        }
      ]
    },
    {
      "cell_type": "code",
      "source": [
        "#Defino el segundo array de pesos\n",
        "ejer3p_array2 = np.array([30,-2,5])\n",
        "print(\"Array que almacena los pesos --> \"+ str(ejer3p_array2))\n",
        "\n",
        "#Genero un array con 5 números, uniformemente distribuidos\n",
        "x = np.linspace(0,5,5)\n",
        "print(\"Array que almacena conjunto de datos --> \"+ str(x));\n",
        "\n",
        "#Calculo los primeros valores de \"y\" y los muestro por pantalla\n",
        "y= [ejer3p_array2[1]*i+ejer3p_array1[2] for i in x]\n",
        "print(\"Array 'y' resultante: \"+str(y));\n",
        "\n",
        "#Dibujo la regresión lineal que muestre el valor de y en función de x1\n",
        "plt.plot(x,y)"
      ],
      "metadata": {
        "colab": {
          "base_uri": "https://localhost:8080/",
          "height": 334
        },
        "id": "edBlFWfj0X6P",
        "outputId": "73a589c3-e313-4e98-931e-cd97412a6425"
      },
      "execution_count": 128,
      "outputs": [
        {
          "output_type": "stream",
          "name": "stdout",
          "text": [
            "Array que almacena los pesos --> [30 -2  5]\n",
            "Array que almacena conjunto de datos --> [0.   1.25 2.5  3.75 5.  ]\n",
            "Array 'y' resultante: [0.0, -2.5, -5.0, -7.5, -10.0]\n"
          ]
        },
        {
          "output_type": "execute_result",
          "data": {
            "text/plain": [
              "[<matplotlib.lines.Line2D at 0x7f202091d490>]"
            ]
          },
          "metadata": {},
          "execution_count": 128
        },
        {
          "output_type": "display_data",
          "data": {
            "text/plain": [
              "<Figure size 432x288 with 1 Axes>"
            ],
            "image/png": "[encoded data removed]"
          },
          "metadata": {
            "needs_background": "light"
          }
        }
      ]
    },
    {
      "cell_type": "markdown",
      "source": [
        "**############Ejercicio 2#################**"
      ],
      "metadata": {
        "id": "wrfi9Moe1enB"
      }
    },
    {
      "cell_type": "code",
      "source": [
        "#Importar la librería Pandas\n",
        "import pandas as pd\n",
        "\n"
      ],
      "metadata": {
        "id": "eg-GIqK6sPJj"
      },
      "execution_count": 129,
      "outputs": []
    },
    {
      "cell_type": "markdown",
      "source": [
        "**1. Crea un DataFrame de pandas con los datos del archivo csv disponible en la URL anteriormente mencionada. Alternativamente, puedes inicializarlo de forma manual añadiendo los datos del ejercicio de la Parte 1.**"
      ],
      "metadata": {
        "id": "GqIffk4C2OO_"
      }
    },
    {
      "cell_type": "code",
      "source": [
        "#Importamos el data frame\n",
        "\n",
        "df = pd.read_csv('https://raw.githubusercontent.com/rcabanasdepaz/files/master/datasets/ejercicio4.csv')\n",
        "df"
      ],
      "metadata": {
        "colab": {
          "base_uri": "https://localhost:8080/",
          "height": 332
        },
        "id": "upqEn9GR2Ffn",
        "outputId": "9536e53a-dcff-49ee-d29f-3d8e7e675a83"
      },
      "execution_count": 130,
      "outputs": [
        {
          "output_type": "execute_result",
          "data": {
            "text/plain": [
              "   id  ingresos    gastos  edad nacionalidad propietario\n",
              "0   1     20000  18000.30  22.0           SP       False\n",
              "1   2     45000  52000.45  36.0           SP         NaN\n",
              "2   3     31000  30000.00  33.0           SP       False\n",
              "3   4     20000  22000.00  41.0           IT        True\n",
              "4   5     85000  45000.15  55.0           CH        True\n",
              "5   6     33000  30000.22  45.0          NaN       False\n",
              "6   7     16000  18000.01  28.0           SP       False\n",
              "7   9     40000  21000.00   NaN           SP         NaN\n",
              "8  10     22000  23000.00  39.0           SP        True"
            ],
            "text/html": [
              "\n",
              "  <div id=\"df-a72a47c2-883a-4c90-b681-d873278a70ea\">\n",
              "    <div class=\"colab-df-container\">\n",
              "      <div>\n",
              "<style scoped>\n",
              "    .dataframe tbody tr th:only-of-type {\n",
              "        vertical-align: middle;\n",
              "    }\n",
              "\n",
              "    .dataframe tbody tr th {\n",
              "        vertical-align: top;\n",
              "    }\n",
              "\n",
              "    .dataframe thead th {\n",
              "        text-align: right;\n",
              "    }\n",
              "</style>\n",
              "<table border=\"1\" class=\"dataframe\">\n",
              "  <thead>\n",
              "    <tr style=\"text-align: right;\">\n",
              "      <th></th>\n",
              "      <th>id</th>\n",
              "      <th>ingresos</th>\n",
              "      <th>gastos</th>\n",
              "      <th>edad</th>\n",
              "      <th>nacionalidad</th>\n",
              "      <th>propietario</th>\n",
              "    </tr>\n",
              "  </thead>\n",
              "  <tbody>\n",
              "    <tr>\n",
              "      <th>0</th>\n",
              "      <td>1</td>\n",
              "      <td>20000</td>\n",
              "      <td>18000.30</td>\n",
              "      <td>22.0</td>\n",
              "      <td>SP</td>\n",
              "      <td>False</td>\n",
              "    </tr>\n",
              "    <tr>\n",
              "      <th>1</th>\n",
              "      <td>2</td>\n",
              "      <td>45000</td>\n",
              "      <td>52000.45</td>\n",
              "      <td>36.0</td>\n",
              "      <td>SP</td>\n",
              "      <td>NaN</td>\n",
              "    </tr>\n",
              "    <tr>\n",
              "      <th>2</th>\n",
              "      <td>3</td>\n",
              "      <td>31000</td>\n",
              "      <td>30000.00</td>\n",
              "      <td>33.0</td>\n",
              "      <td>SP</td>\n",
              "      <td>False</td>\n",
              "    </tr>\n",
              "    <tr>\n",
              "      <th>3</th>\n",
              "      <td>4</td>\n",
              "      <td>20000</td>\n",
              "      <td>22000.00</td>\n",
              "      <td>41.0</td>\n",
              "      <td>IT</td>\n",
              "      <td>True</td>\n",
              "    </tr>\n",
              "    <tr>\n",
              "      <th>4</th>\n",
              "      <td>5</td>\n",
              "      <td>85000</td>\n",
              "      <td>45000.15</td>\n",
              "      <td>55.0</td>\n",
              "      <td>CH</td>\n",
              "      <td>True</td>\n",
              "    </tr>\n",
              "    <tr>\n",
              "      <th>5</th>\n",
              "      <td>6</td>\n",
              "      <td>33000</td>\n",
              "      <td>30000.22</td>\n",
              "      <td>45.0</td>\n",
              "      <td>NaN</td>\n",
              "      <td>False</td>\n",
              "    </tr>\n",
              "    <tr>\n",
              "      <th>6</th>\n",
              "      <td>7</td>\n",
              "      <td>16000</td>\n",
              "      <td>18000.01</td>\n",
              "      <td>28.0</td>\n",
              "      <td>SP</td>\n",
              "      <td>False</td>\n",
              "    </tr>\n",
              "    <tr>\n",
              "      <th>7</th>\n",
              "      <td>9</td>\n",
              "      <td>40000</td>\n",
              "      <td>21000.00</td>\n",
              "      <td>NaN</td>\n",
              "      <td>SP</td>\n",
              "      <td>NaN</td>\n",
              "    </tr>\n",
              "    <tr>\n",
              "      <th>8</th>\n",
              "      <td>10</td>\n",
              "      <td>22000</td>\n",
              "      <td>23000.00</td>\n",
              "      <td>39.0</td>\n",
              "      <td>SP</td>\n",
              "      <td>True</td>\n",
              "    </tr>\n",
              "  </tbody>\n",
              "</table>\n",
              "</div>\n",
              "      <button class=\"colab-df-convert\" onclick=\"convertToInteractive('df-a72a47c2-883a-4c90-b681-d873278a70ea')\"\n",
              "              title=\"Convert this dataframe to an interactive table.\"\n",
              "              style=\"display:none;\">\n",
              "        \n",
              "  <svg xmlns=\"http://www.w3.org/2000/svg\" height=\"24px\"viewBox=\"0 0 24 24\"\n",
              "       width=\"24px\">\n",
              "    <path d=\"M0 0h24v24H0V0z\" fill=\"none\"/>\n",
              "    <path d=\"M18.56 5.44l.94 2.06.94-2.06 2.06-.94-2.06-.94-.94-2.06-.94 2.06-2.06.94zm-11 1L8.5 8.5l.94-2.06 2.06-.94-2.06-.94L8.5 2.5l-.94 2.06-2.06.94zm10 10l.94 2.06.94-2.06 2.06-.94-2.06-.94-.94-2.06-.94 2.06-2.06.94z\"/><path d=\"M17.41 7.96l-1.37-1.37c-.4-.4-.92-.59-1.43-.59-.52 0-1.04.2-1.43.59L10.3 9.45l-7.72 7.72c-.78.78-.78 2.05 0 2.83L4 21.41c.39.39.9.59 1.41.59.51 0 1.02-.2 1.41-.59l7.78-7.78 2.81-2.81c.8-.78.8-2.07 0-2.86zM5.41 20L4 18.59l7.72-7.72 1.47 1.35L5.41 20z\"/>\n",
              "  </svg>\n",
              "      </button>\n",
              "      \n",
              "  <style>\n",
              "    .colab-df-container {\n",
              "      display:flex;\n",
              "      flex-wrap:wrap;\n",
              "      gap: 12px;\n",
              "    }\n",
              "\n",
              "    .colab-df-convert {\n",
              "      background-color: #E8F0FE;\n",
              "      border: none;\n",
              "      border-radius: 50%;\n",
              "      cursor: pointer;\n",
              "      display: none;\n",
              "      fill: #1967D2;\n",
              "      height: 32px;\n",
              "      padding: 0 0 0 0;\n",
              "      width: 32px;\n",
              "    }\n",
              "\n",
              "    .colab-df-convert:hover {\n",
              "      background-color: #E2EBFA;\n",
              "      box-shadow: 0px 1px 2px rgba(60, 64, 67, 0.3), 0px 1px 3px 1px rgba(60, 64, 67, 0.15);\n",
              "      fill: #174EA6;\n",
              "    }\n",
              "\n",
              "    [theme=dark] .colab-df-convert {\n",
              "      background-color: #3B4455;\n",
              "      fill: #D2E3FC;\n",
              "    }\n",
              "\n",
              "    [theme=dark] .colab-df-convert:hover {\n",
              "      background-color: #434B5C;\n",
              "      box-shadow: 0px 1px 3px 1px rgba(0, 0, 0, 0.15);\n",
              "      filter: drop-shadow(0px 1px 2px rgba(0, 0, 0, 0.3));\n",
              "      fill: #FFFFFF;\n",
              "    }\n",
              "  </style>\n",
              "\n",
              "      <script>\n",
              "        const buttonEl =\n",
              "          document.querySelector('#df-a72a47c2-883a-4c90-b681-d873278a70ea button.colab-df-convert');\n",
              "        buttonEl.style.display =\n",
              "          google.colab.kernel.accessAllowed ? 'block' : 'none';\n",
              "\n",
              "        async function convertToInteractive(key) {\n",
              "          const element = document.querySelector('#df-a72a47c2-883a-4c90-b681-d873278a70ea');\n",
              "          const dataTable =\n",
              "            await google.colab.kernel.invokeFunction('convertToInteractive',\n",
              "                                                     [key], {});\n",
              "          if (!dataTable) return;\n",
              "\n",
              "          const docLinkHtml = 'Like what you see? Visit the ' +\n",
              "            '<a target=\"_blank\" href=https://colab.research.google.com/notebooks/data_table.ipynb>data table notebook</a>'\n",
              "            + ' to learn more about interactive tables.';\n",
              "          element.innerHTML = '';\n",
              "          dataTable['output_type'] = 'display_data';\n",
              "          await google.colab.output.renderOutput(dataTable, element);\n",
              "          const docLink = document.createElement('div');\n",
              "          docLink.innerHTML = docLinkHtml;\n",
              "          element.appendChild(docLink);\n",
              "        }\n",
              "      </script>\n",
              "    </div>\n",
              "  </div>\n",
              "  "
            ]
          },
          "metadata": {},
          "execution_count": 130
        }
      ]
    },
    {
      "cell_type": "markdown",
      "source": [
        "**2. Elimina aquellas filas que contengan valores faltantes**"
      ],
      "metadata": {
        "id": "bpRQe36A2mwZ"
      }
    },
    {
      "cell_type": "code",
      "source": [
        "df2 = df.dropna()\n",
        "df2"
      ],
      "metadata": {
        "colab": {
          "base_uri": "https://localhost:8080/",
          "height": 237
        },
        "id": "kleTd-H53ULU",
        "outputId": "c2502599-6d82-4388-82db-51488da84f91"
      },
      "execution_count": 131,
      "outputs": [
        {
          "output_type": "execute_result",
          "data": {
            "text/plain": [
              "   id  ingresos    gastos  edad nacionalidad propietario\n",
              "0   1     20000  18000.30  22.0           SP       False\n",
              "2   3     31000  30000.00  33.0           SP       False\n",
              "3   4     20000  22000.00  41.0           IT        True\n",
              "4   5     85000  45000.15  55.0           CH        True\n",
              "6   7     16000  18000.01  28.0           SP       False\n",
              "8  10     22000  23000.00  39.0           SP        True"
            ],
            "text/html": [
              "\n",
              "  <div id=\"df-d21c6527-c527-4da6-98ff-ad88683449db\">\n",
              "    <div class=\"colab-df-container\">\n",
              "      <div>\n",
              "<style scoped>\n",
              "    .dataframe tbody tr th:only-of-type {\n",
              "        vertical-align: middle;\n",
              "    }\n",
              "\n",
              "    .dataframe tbody tr th {\n",
              "        vertical-align: top;\n",
              "    }\n",
              "\n",
              "    .dataframe thead th {\n",
              "        text-align: right;\n",
              "    }\n",
              "</style>\n",
              "<table border=\"1\" class=\"dataframe\">\n",
              "  <thead>\n",
              "    <tr style=\"text-align: right;\">\n",
              "      <th></th>\n",
              "      <th>id</th>\n",
              "      <th>ingresos</th>\n",
              "      <th>gastos</th>\n",
              "      <th>edad</th>\n",
              "      <th>nacionalidad</th>\n",
              "      <th>propietario</th>\n",
              "    </tr>\n",
              "  </thead>\n",
              "  <tbody>\n",
              "    <tr>\n",
              "      <th>0</th>\n",
              "      <td>1</td>\n",
              "      <td>20000</td>\n",
              "      <td>18000.30</td>\n",
              "      <td>22.0</td>\n",
              "      <td>SP</td>\n",
              "      <td>False</td>\n",
              "    </tr>\n",
              "    <tr>\n",
              "      <th>2</th>\n",
              "      <td>3</td>\n",
              "      <td>31000</td>\n",
              "      <td>30000.00</td>\n",
              "      <td>33.0</td>\n",
              "      <td>SP</td>\n",
              "      <td>False</td>\n",
              "    </tr>\n",
              "    <tr>\n",
              "      <th>3</th>\n",
              "      <td>4</td>\n",
              "      <td>20000</td>\n",
              "      <td>22000.00</td>\n",
              "      <td>41.0</td>\n",
              "      <td>IT</td>\n",
              "      <td>True</td>\n",
              "    </tr>\n",
              "    <tr>\n",
              "      <th>4</th>\n",
              "      <td>5</td>\n",
              "      <td>85000</td>\n",
              "      <td>45000.15</td>\n",
              "      <td>55.0</td>\n",
              "      <td>CH</td>\n",
              "      <td>True</td>\n",
              "    </tr>\n",
              "    <tr>\n",
              "      <th>6</th>\n",
              "      <td>7</td>\n",
              "      <td>16000</td>\n",
              "      <td>18000.01</td>\n",
              "      <td>28.0</td>\n",
              "      <td>SP</td>\n",
              "      <td>False</td>\n",
              "    </tr>\n",
              "    <tr>\n",
              "      <th>8</th>\n",
              "      <td>10</td>\n",
              "      <td>22000</td>\n",
              "      <td>23000.00</td>\n",
              "      <td>39.0</td>\n",
              "      <td>SP</td>\n",
              "      <td>True</td>\n",
              "    </tr>\n",
              "  </tbody>\n",
              "</table>\n",
              "</div>\n",
              "      <button class=\"colab-df-convert\" onclick=\"convertToInteractive('df-d21c6527-c527-4da6-98ff-ad88683449db')\"\n",
              "              title=\"Convert this dataframe to an interactive table.\"\n",
              "              style=\"display:none;\">\n",
              "        \n",
              "  <svg xmlns=\"http://www.w3.org/2000/svg\" height=\"24px\"viewBox=\"0 0 24 24\"\n",
              "       width=\"24px\">\n",
              "    <path d=\"M0 0h24v24H0V0z\" fill=\"none\"/>\n",
              "    <path d=\"M18.56 5.44l.94 2.06.94-2.06 2.06-.94-2.06-.94-.94-2.06-.94 2.06-2.06.94zm-11 1L8.5 8.5l.94-2.06 2.06-.94-2.06-.94L8.5 2.5l-.94 2.06-2.06.94zm10 10l.94 2.06.94-2.06 2.06-.94-2.06-.94-.94-2.06-.94 2.06-2.06.94z\"/><path d=\"M17.41 7.96l-1.37-1.37c-.4-.4-.92-.59-1.43-.59-.52 0-1.04.2-1.43.59L10.3 9.45l-7.72 7.72c-.78.78-.78 2.05 0 2.83L4 21.41c.39.39.9.59 1.41.59.51 0 1.02-.2 1.41-.59l7.78-7.78 2.81-2.81c.8-.78.8-2.07 0-2.86zM5.41 20L4 18.59l7.72-7.72 1.47 1.35L5.41 20z\"/>\n",
              "  </svg>\n",
              "      </button>\n",
              "      \n",
              "  <style>\n",
              "    .colab-df-container {\n",
              "      display:flex;\n",
              "      flex-wrap:wrap;\n",
              "      gap: 12px;\n",
              "    }\n",
              "\n",
              "    .colab-df-convert {\n",
              "      background-color: #E8F0FE;\n",
              "      border: none;\n",
              "      border-radius: 50%;\n",
              "      cursor: pointer;\n",
              "      display: none;\n",
              "      fill: #1967D2;\n",
              "      height: 32px;\n",
              "      padding: 0 0 0 0;\n",
              "      width: 32px;\n",
              "    }\n",
              "\n",
              "    .colab-df-convert:hover {\n",
              "      background-color: #E2EBFA;\n",
              "      box-shadow: 0px 1px 2px rgba(60, 64, 67, 0.3), 0px 1px 3px 1px rgba(60, 64, 67, 0.15);\n",
              "      fill: #174EA6;\n",
              "    }\n",
              "\n",
              "    [theme=dark] .colab-df-convert {\n",
              "      background-color: #3B4455;\n",
              "      fill: #D2E3FC;\n",
              "    }\n",
              "\n",
              "    [theme=dark] .colab-df-convert:hover {\n",
              "      background-color: #434B5C;\n",
              "      box-shadow: 0px 1px 3px 1px rgba(0, 0, 0, 0.15);\n",
              "      filter: drop-shadow(0px 1px 2px rgba(0, 0, 0, 0.3));\n",
              "      fill: #FFFFFF;\n",
              "    }\n",
              "  </style>\n",
              "\n",
              "      <script>\n",
              "        const buttonEl =\n",
              "          document.querySelector('#df-d21c6527-c527-4da6-98ff-ad88683449db button.colab-df-convert');\n",
              "        buttonEl.style.display =\n",
              "          google.colab.kernel.accessAllowed ? 'block' : 'none';\n",
              "\n",
              "        async function convertToInteractive(key) {\n",
              "          const element = document.querySelector('#df-d21c6527-c527-4da6-98ff-ad88683449db');\n",
              "          const dataTable =\n",
              "            await google.colab.kernel.invokeFunction('convertToInteractive',\n",
              "                                                     [key], {});\n",
              "          if (!dataTable) return;\n",
              "\n",
              "          const docLinkHtml = 'Like what you see? Visit the ' +\n",
              "            '<a target=\"_blank\" href=https://colab.research.google.com/notebooks/data_table.ipynb>data table notebook</a>'\n",
              "            + ' to learn more about interactive tables.';\n",
              "          element.innerHTML = '';\n",
              "          dataTable['output_type'] = 'display_data';\n",
              "          await google.colab.output.renderOutput(dataTable, element);\n",
              "          const docLink = document.createElement('div');\n",
              "          docLink.innerHTML = docLinkHtml;\n",
              "          element.appendChild(docLink);\n",
              "        }\n",
              "      </script>\n",
              "    </div>\n",
              "  </div>\n",
              "  "
            ]
          },
          "metadata": {},
          "execution_count": 131
        }
      ]
    },
    {
      "cell_type": "markdown",
      "source": [
        "**3. Para las columnas numéricas, muestra el valor medio**"
      ],
      "metadata": {
        "id": "6itcfiHj3acD"
      }
    },
    {
      "cell_type": "code",
      "source": [
        "#Añado la opción de \"numeric_only=True\" para que sólo haga las operaciones con datos numéricos. No tiene en cuenta a las columnas que son String\n",
        "df3=df2.mean(numeric_only=True)\n",
        "df3"
      ],
      "metadata": {
        "colab": {
          "base_uri": "https://localhost:8080/"
        },
        "id": "FdzeTFwz3zJI",
        "outputId": "01354be7-eb69-4a4f-ecca-c78d028bc666"
      },
      "execution_count": 132,
      "outputs": [
        {
          "output_type": "execute_result",
          "data": {
            "text/plain": [
              "id              5.000000\n",
              "ingresos    32333.333333\n",
              "gastos      26000.076667\n",
              "edad           36.333333\n",
              "dtype: float64"
            ]
          },
          "metadata": {},
          "execution_count": 132
        }
      ]
    },
    {
      "cell_type": "markdown",
      "source": [
        "**4. Para las columnas con valores categóricos o discretos, muestra el conjunto de posibles valores (sin repetir ninguno).**"
      ],
      "metadata": {
        "id": "eqsE7o5S49Bt"
      }
    },
    {
      "cell_type": "code",
      "source": [
        "df2['nacionalidad'].unique()\n"
      ],
      "metadata": {
        "colab": {
          "base_uri": "https://localhost:8080/"
        },
        "id": "_p8SwT6D5HHE",
        "outputId": "74117373-fe51-4803-eee2-c75752ebf304"
      },
      "execution_count": 133,
      "outputs": [
        {
          "output_type": "execute_result",
          "data": {
            "text/plain": [
              "array(['SP', 'IT', 'CH'], dtype=object)"
            ]
          },
          "metadata": {},
          "execution_count": 133
        }
      ]
    },
    {
      "cell_type": "markdown",
      "source": [
        "**5. Añade una nueva columna llamada “Balance” que se calcule como la resta de los ingresos menos los gastos.**"
      ],
      "metadata": {
        "id": "t8CuBVyG5Tyl"
      }
    },
    {
      "cell_type": "code",
      "source": [
        "import numpy as np"
      ],
      "metadata": {
        "id": "ob7Nr8B29uM6"
      },
      "execution_count": 84,
      "outputs": []
    },
    {
      "cell_type": "code",
      "source": [
        "#Inicializo 2 arrays (para gastos e ingresos)\n",
        "i_array=np.array([]);\n",
        "g_array=np.array([]);\n",
        "\n",
        "#Obtengo los ingresos\n",
        "for ingresos in list(df['ingresos']):\n",
        "  i_array=np.append(i_array,ingresos);\n",
        "\n",
        "#Obtengo los gastos\n",
        "for gastos in list(df['gastos']):\n",
        "  g_array=np.append(g_array,gastos);\n",
        "\n",
        "#Obtengo el balance\n",
        "array_balance=i_array-g_array;\n",
        "\n",
        "#Se añade una nueva columna llamada \"Balance\"\n",
        "df[\"Balance\"]=array_balance\n",
        "print(df);\n"
      ],
      "metadata": {
        "colab": {
          "base_uri": "https://localhost:8080/"
        },
        "id": "C9jzbrP96rgx",
        "outputId": "51eaecc7-0728-4342-e648-3756d883e9a1"
      },
      "execution_count": 134,
      "outputs": [
        {
          "output_type": "stream",
          "name": "stdout",
          "text": [
            "   id  ingresos    gastos  edad nacionalidad propietario   Balance\n",
            "0   1     20000  18000.30  22.0           SP       False   1999.70\n",
            "1   2     45000  52000.45  36.0           SP         NaN  -7000.45\n",
            "2   3     31000  30000.00  33.0           SP       False   1000.00\n",
            "3   4     20000  22000.00  41.0           IT        True  -2000.00\n",
            "4   5     85000  45000.15  55.0           CH        True  39999.85\n",
            "5   6     33000  30000.22  45.0          NaN       False   2999.78\n",
            "6   7     16000  18000.01  28.0           SP       False  -2000.01\n",
            "7   9     40000  21000.00   NaN           SP         NaN  19000.00\n",
            "8  10     22000  23000.00  39.0           SP        True  -1000.00\n"
          ]
        }
      ]
    },
    {
      "cell_type": "code",
      "source": [
        ""
      ],
      "metadata": {
        "id": "ex7mayuy_k8b"
      },
      "execution_count": null,
      "outputs": []
    },
    {
      "cell_type": "markdown",
      "source": [
        "**6. Muestra los IDs de los clientes que tengan más gastos que ingresos.**"
      ],
      "metadata": {
        "id": "y3pv49iQ_jgM"
      }
    },
    {
      "cell_type": "code",
      "source": [
        "print(\"Los id de clientes que tienen más gastos que ingresos son:\")\n",
        "#Recorro fila a fila el data frame\n",
        "for i in range(len(df)): \n",
        "  #Si el Balance es negativo\n",
        "  if(df.loc[i,\"Balance\"]<0):\n",
        "     #Muestro los id \n",
        "      print(df.loc[i,\"id\"]);"
      ],
      "metadata": {
        "colab": {
          "base_uri": "https://localhost:8080/"
        },
        "id": "TGjjycbeAjja",
        "outputId": "fd7c51b5-6e96-45df-b3a5-c8f1b9b3a5dc"
      },
      "execution_count": 135,
      "outputs": [
        {
          "output_type": "stream",
          "name": "stdout",
          "text": [
            "Los id de clientes que tienen más gastos que ingresos son:\n",
            "2\n",
            "4\n",
            "7\n",
            "10\n"
          ]
        }
      ]
    },
    {
      "cell_type": "markdown",
      "source": [
        "**7. Crea un gráfico de dispersión con los ingresos y gastos.**"
      ],
      "metadata": {
        "id": "DTxaEhzfDM2W"
      }
    },
    {
      "cell_type": "code",
      "source": [
        "import matplotlib.pyplot as plt\n"
      ],
      "metadata": {
        "id": "liSfYyjaDkNH"
      },
      "execution_count": 136,
      "outputs": []
    },
    {
      "cell_type": "code",
      "source": [
        "plt.scatter(df['ingresos'],df['gastos'])\n",
        "plt.show()\n",
        "\n"
      ],
      "metadata": {
        "colab": {
          "base_uri": "https://localhost:8080/",
          "height": 265
        },
        "id": "KJlYPkZRDc3x",
        "outputId": "8b277385-2eef-458d-9aa8-6b3e48c059ed"
      },
      "execution_count": 137,
      "outputs": [
        {
          "output_type": "display_data",
          "data": {
            "text/plain": [
              "<Figure size 432x288 with 1 Axes>"
            ],
            "image/png": "[encoded data removed]"
          },
          "metadata": {
            "needs_background": "light"
          }
        }
      ]
    },
    {
      "cell_type": "markdown",
      "source": [
        "**8. Crea un diagrama de barras que muestre el número de personas en cada rango de edad. Utiliza los intervalos [20,29], [30,39], [40,49] y [50, 59] para agrupar las edades.**"
      ],
      "metadata": {
        "id": "RCahYC46D1Sg"
      }
    },
    {
      "cell_type": "code",
      "source": [
        "#Cuento, usando numpy, el número de clientes que hay en cada rango de edad\n",
        "array=np.array([0,0,0,0]);\n",
        "for i in range(len(df)):\n",
        "  if(df.loc[i,\"edad\"]>=20 and df.loc[i,\"edad\"]<=29):\n",
        "    array[0]=array[0]+1;\n",
        "  elif(df.loc[i,\"edad\"]>=30 and df.loc[i,\"edad\"]<=39):\n",
        "    array[1]=array[1]+1;\n",
        "  elif(df.loc[i,\"edad\"]>=40 and df.loc[i,\"edad\"]<=49):\n",
        "    array[2]=array[2]+1;\n",
        "  else:\n",
        "    array[3]=array[3]+1;\n",
        "\n",
        "#Muestro los resultados para comprobarlo\n",
        "print(array)\n",
        "\n",
        "#Pinto los resultados, usando un diagrama de barras\n",
        "x=[\"[20-29]\",\"[30-39]\",\"[40-49]\",\"[50-59]\"]\n",
        "plt.bar(x, array)\n",
        "plt.show()\n"
      ],
      "metadata": {
        "colab": {
          "base_uri": "https://localhost:8080/",
          "height": 282
        },
        "id": "Iw3O1QrNEyly",
        "outputId": "6f072d6f-8533-4227-df17-aee171dfc817"
      },
      "execution_count": 161,
      "outputs": [
        {
          "output_type": "stream",
          "name": "stdout",
          "text": [
            "[2 3 2 2]\n"
          ]
        },
        {
          "output_type": "display_data",
          "data": {
            "text/plain": [
              "<Figure size 432x288 with 1 Axes>"
            ],
            "image/png": "[encoded data removed]"
          },
          "metadata": {
            "needs_background": "light"
          }
        }
      ]
    }
  ]
}